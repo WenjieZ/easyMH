{
 "cells": [
  {
   "cell_type": "code",
   "execution_count": 60,
   "metadata": {},
   "outputs": [],
   "source": [
    "from collections import namedtuple\n",
    "import numpy as np"
   ]
  },
  {
   "cell_type": "code",
   "execution_count": 62,
   "metadata": {},
   "outputs": [],
   "source": [
    "Id = lambda x, *vargs, **kvargs: x\n",
    "MESSAGE = \"Starting point outside of the domain.\"\n",
    "Roaming = namedtuple('Roaming', 'x walker objective')"
   ]
  },
  {
   "cell_type": "code",
   "execution_count": 3,
   "metadata": {},
   "outputs": [],
   "source": [
    "def extract_options(options, prefix):\n",
    "    \"\"\"extract_options(dict(law=0, law_a=1, law_b=2, foo=3, foo_c=4), 'law') == {'a': 1, 'b': 2}\"\"\"\n",
    "    return {k.replace(prefix+'_', \"\"):options[k] for k in options if k.find(prefix+'_')==0}"
   ]
  },
  {
   "cell_type": "code",
   "execution_count": 4,
   "metadata": {},
   "outputs": [],
   "source": [
    "def incube(x, cube):  # whether in the open cube\n",
    "    x = np.array(x)\n",
    "    cube = np.array(cube)\n",
    "    return np.alltrue(cube[:, 0] < x) and np.alltrue(x < cube[:, 1])"
   ]
  },
  {
   "cell_type": "code",
   "execution_count": 5,
   "metadata": {},
   "outputs": [],
   "source": [
    "def infinite_cube(d):  # make d-dimensional infinite cube\n",
    "    return np.tile([-np.inf, np.inf], (d, 1))"
   ]
  },
  {
   "cell_type": "code",
   "execution_count": 6,
   "metadata": {},
   "outputs": [],
   "source": [
    "def uniform(x, width=1, *vargs, seed=None, **kvargs):\n",
    "    x = np.array(x)\n",
    "    d = len(x)\n",
    "    if np.isscalar(width):\n",
    "        width = width * np.ones(d)\n",
    "    if seed is not None:\n",
    "        np.random.seed(seed)\n",
    "        \n",
    "    return x + width * (np.random.rand(d) - 0.5)\n",
    "\n",
    "\n",
    "def gaussian(x, sigma=1, *vargs, seed=None, **kvargs):\n",
    "    x = np.array(x)\n",
    "    d = len(x)\n",
    "    if np.isscalar(sigma):\n",
    "        sigma = sigma * np.ones(d)\n",
    "    if seed is not None:\n",
    "        np.random.seed(seed)\n",
    "    \n",
    "    return x + sigma * (np.random.randn(d))"
   ]
  },
  {
   "cell_type": "code",
   "execution_count": 59,
   "metadata": {},
   "outputs": [],
   "source": [
    "def individual(x, cube=None, law=uniform, *vargs, **options):\n",
    "    x = np.array(x)\n",
    "    d = len(x)\n",
    "\n",
    "    if cube is None:\n",
    "        cube = infinite_cube(d)\n",
    "    cube = np.array(cube)\n",
    "    \n",
    "    if not incube(x, cube):\n",
    "        raise Exception(MESSAGE)\n",
    "        \n",
    "    y = law(x, **extract_options(options, 'law'))\n",
    "    index = (y < cube[:, 0]) | (y > cube[:, 1])\n",
    "    y[index] = x[index]\n",
    "    return y, None\n",
    "\n",
    "\n",
    "def collective(x, cube=None, cov=1, *vargs, seed=None, **kvargs):  # multivariate-normal distribution\n",
    "    x = np.array(x)\n",
    "    d = len(x)\n",
    "\n",
    "    if cube is None:\n",
    "        cube = infinite_cube(d)\n",
    "    cube = np.array(cube)\n",
    "    if not incube(x, cube):\n",
    "        raise Exception(MESSAGE)\n",
    "    \n",
    "    if np.isscalar(cov):\n",
    "        cov = cov * np.ones(d)\n",
    "    cov = np.array(cov)\n",
    "    if cov.ndim == 1:\n",
    "        cov = np.diag(cov)\n",
    "\n",
    "    if seed is not None:\n",
    "        np.random.seed(seed)    \n",
    "\n",
    "    y = x + np.random.multivariate_normal(np.zeros(d), cov)\n",
    "    y = y if incube(y, cube) else x\n",
    "    return y, None\n",
    "\n",
    "\n",
    "def rotative(x, t=0, state=None, cube=None, law=uniform, *vargs, seed=None, **options):  \n",
    "    x = np.array(x)\n",
    "    d = len(x)\n",
    "        \n",
    "    if cube is None:\n",
    "        cube = infinite_cube(d)\n",
    "    cube = np.array(cube)\n",
    "    \n",
    "    if not incube(x, cube):\n",
    "        raise Exception(MESSAGE)\n",
    "    \n",
    "    if seed is not None and t==0:\n",
    "        np.random.seed(seed)\n",
    "\n",
    "    r = t % d\n",
    "    y = law([x[r]], **extract_options(options, 'law'))\n",
    "    if cube[r, 0] < y < cube[r, 1]:\n",
    "        x[r] = y\n",
    "    return x, state"
   ]
  },
  {
   "cell_type": "code",
   "execution_count": 63,
   "metadata": {},
   "outputs": [],
   "source": [
    "def mh(x, proba, cube=None, move=individual, ascdes=(Id, Id), picked=np.arange(100, 1000, 1), seed=None, **options):\n",
    "    x = np.array(x)\n",
    "    d = len(x)\n",
    "        \n",
    "    if cube is None:\n",
    "        cube = infinite_cube(d)\n",
    "    cube = np.array(cube)\n",
    "    \n",
    "    if not incube(x, cube):\n",
    "        raise Exception(MESSAGE)\n",
    "        \n",
    "    rng = np.random.RandomState(seed)\n",
    "        \n",
    "    N = picked[-1]\n",
    "    walker = np.zeros((N+1, d))\n",
    "    objective = np.zeros(N+1)\n",
    "    walker[0, :] = x\n",
    "    objective[0] = proba(x)\n",
    "    \n",
    "    _x = ascdes[0](x)\n",
    "    _cube = np.apply_along_axis(ascdes[0], 0, cube)\n",
    "    \n",
    "    state = None\n",
    "    for t in range(N):\n",
    "        _y, state2 = move(_x, t=t, state=state, cube=cube, **extract_options(options, 'move'))\n",
    "        y = ascdes[1](_y)\n",
    "        py = proba(y)\n",
    "        if np.random.rand() < py / px:\n",
    "            _x, x, px = _y, y, py\n",
    "        \n",
    "        walker[t+1, :] = x\n",
    "        objective[t+1] = px\n",
    "\n",
    "    \n",
    "        return Roaming(np.mean(walker[picked, :], axis=0), walker, objective)"
   ]
  },
  {
   "cell_type": "code",
   "execution_count": null,
   "metadata": {},
   "outputs": [],
   "source": []
  }
 ],
 "metadata": {
  "kernelspec": {
   "display_name": "Python 3",
   "language": "python",
   "name": "python3"
  },
  "language_info": {
   "codemirror_mode": {
    "name": "ipython",
    "version": 3
   },
   "file_extension": ".py",
   "mimetype": "text/x-python",
   "name": "python",
   "nbconvert_exporter": "python",
   "pygments_lexer": "ipython3",
   "version": "3.7.3"
  }
 },
 "nbformat": 4,
 "nbformat_minor": 2
}
